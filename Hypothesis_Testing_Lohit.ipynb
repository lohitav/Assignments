{
 "cells": [
  {
   "cell_type": "markdown",
   "id": "71ee6ed6",
   "metadata": {},
   "source": [
    "# Hypothesis Testing Exercise-I"
   ]
  },
  {
   "cell_type": "markdown",
   "id": "5fb7171b",
   "metadata": {},
   "source": [
    "# A F&B manager wants to determine whether there is any significant difference in the diameter of the cutlet between two units. A randomly selected sample of cutlets was collected from both units and measured? Analyze the data and draw inferences at 5% significance level. Please state the assumptions and tests that you carried out to check validity of the assumptions.\n",
    "\n",
    "\n",
    "###### Minitab File : Cutlets.mtw\n"
   ]
  },
  {
   "cell_type": "code",
   "execution_count": 1,
   "id": "0d1b4724",
   "metadata": {},
   "outputs": [],
   "source": [
    "import pandas as pd\n",
    "import numpy as np\n",
    "import matplotlib.pyplot as plt\n",
    "import seaborn as sns\n",
    "from scipy import stats\n",
    "from scipy.stats import ttest_ind\n",
    "from scipy.stats import f_oneway\n",
    "from scipy.stats import chi2_contingency\n"
   ]
  },
  {
   "cell_type": "code",
   "execution_count": 2,
   "id": "e1fca5d0",
   "metadata": {},
   "outputs": [
    {
     "data": {
      "text/html": [
       "<div>\n",
       "<style scoped>\n",
       "    .dataframe tbody tr th:only-of-type {\n",
       "        vertical-align: middle;\n",
       "    }\n",
       "\n",
       "    .dataframe tbody tr th {\n",
       "        vertical-align: top;\n",
       "    }\n",
       "\n",
       "    .dataframe thead th {\n",
       "        text-align: right;\n",
       "    }\n",
       "</style>\n",
       "<table border=\"1\" class=\"dataframe\">\n",
       "  <thead>\n",
       "    <tr style=\"text-align: right;\">\n",
       "      <th></th>\n",
       "      <th>Unit A</th>\n",
       "      <th>Unit B</th>\n",
       "    </tr>\n",
       "  </thead>\n",
       "  <tbody>\n",
       "    <tr>\n",
       "      <th>0</th>\n",
       "      <td>6.8090</td>\n",
       "      <td>6.7703</td>\n",
       "    </tr>\n",
       "    <tr>\n",
       "      <th>1</th>\n",
       "      <td>6.4376</td>\n",
       "      <td>7.5093</td>\n",
       "    </tr>\n",
       "    <tr>\n",
       "      <th>2</th>\n",
       "      <td>6.9157</td>\n",
       "      <td>6.7300</td>\n",
       "    </tr>\n",
       "    <tr>\n",
       "      <th>3</th>\n",
       "      <td>7.3012</td>\n",
       "      <td>6.7878</td>\n",
       "    </tr>\n",
       "    <tr>\n",
       "      <th>4</th>\n",
       "      <td>7.4488</td>\n",
       "      <td>7.1522</td>\n",
       "    </tr>\n",
       "  </tbody>\n",
       "</table>\n",
       "</div>"
      ],
      "text/plain": [
       "   Unit A  Unit B\n",
       "0  6.8090  6.7703\n",
       "1  6.4376  7.5093\n",
       "2  6.9157  6.7300\n",
       "3  7.3012  6.7878\n",
       "4  7.4488  7.1522"
      ]
     },
     "execution_count": 2,
     "metadata": {},
     "output_type": "execute_result"
    }
   ],
   "source": [
    "df=pd.read_csv(\"Cutlets.csv\")\n",
    "df.head()"
   ]
  },
  {
   "cell_type": "code",
   "execution_count": 3,
   "id": "424b7238",
   "metadata": {},
   "outputs": [
    {
     "data": {
      "text/html": [
       "<div>\n",
       "<style scoped>\n",
       "    .dataframe tbody tr th:only-of-type {\n",
       "        vertical-align: middle;\n",
       "    }\n",
       "\n",
       "    .dataframe tbody tr th {\n",
       "        vertical-align: top;\n",
       "    }\n",
       "\n",
       "    .dataframe thead th {\n",
       "        text-align: right;\n",
       "    }\n",
       "</style>\n",
       "<table border=\"1\" class=\"dataframe\">\n",
       "  <thead>\n",
       "    <tr style=\"text-align: right;\">\n",
       "      <th></th>\n",
       "      <th>count</th>\n",
       "      <th>mean</th>\n",
       "      <th>std</th>\n",
       "      <th>min</th>\n",
       "      <th>25%</th>\n",
       "      <th>50%</th>\n",
       "      <th>75%</th>\n",
       "      <th>max</th>\n",
       "    </tr>\n",
       "  </thead>\n",
       "  <tbody>\n",
       "    <tr>\n",
       "      <th>Unit A</th>\n",
       "      <td>35.0</td>\n",
       "      <td>7.019091</td>\n",
       "      <td>0.288408</td>\n",
       "      <td>6.4376</td>\n",
       "      <td>6.8315</td>\n",
       "      <td>6.9438</td>\n",
       "      <td>7.28055</td>\n",
       "      <td>7.5169</td>\n",
       "    </tr>\n",
       "    <tr>\n",
       "      <th>Unit B</th>\n",
       "      <td>35.0</td>\n",
       "      <td>6.964297</td>\n",
       "      <td>0.343401</td>\n",
       "      <td>6.0380</td>\n",
       "      <td>6.7536</td>\n",
       "      <td>6.9399</td>\n",
       "      <td>7.19500</td>\n",
       "      <td>7.5459</td>\n",
       "    </tr>\n",
       "  </tbody>\n",
       "</table>\n",
       "</div>"
      ],
      "text/plain": [
       "        count      mean       std     min     25%     50%      75%     max\n",
       "Unit A   35.0  7.019091  0.288408  6.4376  6.8315  6.9438  7.28055  7.5169\n",
       "Unit B   35.0  6.964297  0.343401  6.0380  6.7536  6.9399  7.19500  7.5459"
      ]
     },
     "execution_count": 3,
     "metadata": {},
     "output_type": "execute_result"
    }
   ],
   "source": [
    "df.describe().T"
   ]
  },
  {
   "cell_type": "code",
   "execution_count": 4,
   "id": "7afe8e3b",
   "metadata": {},
   "outputs": [
    {
     "name": "stdout",
     "output_type": "stream",
     "text": [
      "<class 'pandas.core.frame.DataFrame'>\n",
      "RangeIndex: 35 entries, 0 to 34\n",
      "Data columns (total 2 columns):\n",
      " #   Column  Non-Null Count  Dtype  \n",
      "---  ------  --------------  -----  \n",
      " 0   Unit A  35 non-null     float64\n",
      " 1   Unit B  35 non-null     float64\n",
      "dtypes: float64(2)\n",
      "memory usage: 688.0 bytes\n"
     ]
    }
   ],
   "source": [
    "df.info()"
   ]
  },
  {
   "cell_type": "code",
   "execution_count": 5,
   "id": "d7814aa6",
   "metadata": {},
   "outputs": [],
   "source": [
    "UnitA=df[[\"Unit A\"]]\n",
    "UnitB=df[[\"Unit B\"]]"
   ]
  },
  {
   "cell_type": "markdown",
   "id": "c43420a3",
   "metadata": {},
   "source": [
    "### NUll Hypothesis = No significance diff in size \n",
    "### Alternative hypothesis = There is significance diff in size \n",
    "\n"
   ]
  },
  {
   "cell_type": "code",
   "execution_count": null,
   "id": "c330bb30",
   "metadata": {},
   "outputs": [],
   "source": [
    "# Performing two tailed T test \n",
    "stat, p = ttest_ind(UnitA,UnitB)\n",
    "print('stat=%.2f, p=%.2f' % (stat, p))\n",
    "if p > 0.05:\n",
    "    print('Accept Null Hypothesis')\n",
    "else:\n",
    "    print('Reject Null Hypothesis')"
   ]
  },
  {
   "cell_type": "markdown",
   "id": "5b2f7447",
   "metadata": {},
   "source": [
    "# As p-value > 0.05 we will accept the null hypothesis "
   ]
  },
  {
   "cell_type": "markdown",
   "id": "b1a5de58",
   "metadata": {},
   "source": [
    "## ========================================================="
   ]
  },
  {
   "cell_type": "markdown",
   "id": "4b4da82b",
   "metadata": {},
   "source": [
    "# Hypothesis Testing - II"
   ]
  },
  {
   "cell_type": "markdown",
   "id": "0f8607e9",
   "metadata": {},
   "source": [
    "# A hospital wants to determine whether there is any difference in the average Turn Around Time (TAT) of reports of the laboratories on their preferred list. They collected a random sample and recorded TAT for reports of 4 laboratories. TAT is defined as sample collected to report dispatch.\n",
    "   \n",
    "# Analyze the data and determine whether there is any difference in average TAT among the different laboratories at 5% significance level.\n",
    " \n",
    " \n",
    "#### Minitab File: LabTAT.mtw\n"
   ]
  },
  {
   "cell_type": "markdown",
   "id": "75c1ff90",
   "metadata": {},
   "source": [
    "# NUll Hypothesis = No difference in Mean TAT among diff laboratories\n",
    "# Alternative hypothesis = difference in Mean TAT among diff laboratories"
   ]
  },
  {
   "cell_type": "code",
   "execution_count": null,
   "id": "775edc61",
   "metadata": {},
   "outputs": [],
   "source": [
    "TAT=pd.read_csv(\"LabTAT.csv\")\n",
    "TAT.head()"
   ]
  },
  {
   "cell_type": "code",
   "execution_count": null,
   "id": "d14c38a6",
   "metadata": {},
   "outputs": [],
   "source": [
    "lab1=TAT[[\"Laboratory 1\"]]\n",
    "lab2=TAT[[\"Laboratory 2\"]]\n",
    "lab3=TAT[[\"Laboratory 3\"]]\n",
    "lab4=TAT[[\"Laboratory 4\"]]"
   ]
  },
  {
   "cell_type": "code",
   "execution_count": null,
   "id": "de8edf5c",
   "metadata": {},
   "outputs": [],
   "source": [
    "# Performing Anova (f-test) as the comparision is between more than 3 values )\n",
    "stat, p = f_oneway(lab1,lab2,lab3,lab4)\n",
    "print('stat=%.2f, p=%.8f' % (stat, p))\n",
    "if p > 0.05:\n",
    "    print('Accept Null Hypothesis')\n",
    "else:\n",
    "    print('Reject Null Hypothesis')"
   ]
  },
  {
   "cell_type": "markdown",
   "id": "2ec99547",
   "metadata": {},
   "source": [
    "## as p value < 0.05 we will reject null hypothesis"
   ]
  },
  {
   "cell_type": "markdown",
   "id": "f0a73cc6",
   "metadata": {},
   "source": [
    "## ================================================================"
   ]
  },
  {
   "cell_type": "markdown",
   "id": "2c77addf",
   "metadata": {},
   "source": [
    "# Hypothesis Testing-III"
   ]
  },
  {
   "cell_type": "markdown",
   "id": "7820da64",
   "metadata": {},
   "source": [
    "# Sales of products in four different regions is tabulated for males and females. Find if male-female buyer rations are similar across regions."
   ]
  },
  {
   "cell_type": "code",
   "execution_count": 8,
   "id": "e91f17f9",
   "metadata": {},
   "outputs": [
    {
     "data": {
      "text/html": [
       "<div>\n",
       "<style scoped>\n",
       "    .dataframe tbody tr th:only-of-type {\n",
       "        vertical-align: middle;\n",
       "    }\n",
       "\n",
       "    .dataframe tbody tr th {\n",
       "        vertical-align: top;\n",
       "    }\n",
       "\n",
       "    .dataframe thead th {\n",
       "        text-align: right;\n",
       "    }\n",
       "</style>\n",
       "<table border=\"1\" class=\"dataframe\">\n",
       "  <thead>\n",
       "    <tr style=\"text-align: right;\">\n",
       "      <th></th>\n",
       "      <th>Observed Values</th>\n",
       "      <th>East</th>\n",
       "      <th>West</th>\n",
       "      <th>North</th>\n",
       "      <th>South</th>\n",
       "    </tr>\n",
       "  </thead>\n",
       "  <tbody>\n",
       "    <tr>\n",
       "      <th>0</th>\n",
       "      <td>Males</td>\n",
       "      <td>50</td>\n",
       "      <td>142</td>\n",
       "      <td>131</td>\n",
       "      <td>70</td>\n",
       "    </tr>\n",
       "    <tr>\n",
       "      <th>1</th>\n",
       "      <td>Females</td>\n",
       "      <td>435</td>\n",
       "      <td>1523</td>\n",
       "      <td>1356</td>\n",
       "      <td>750</td>\n",
       "    </tr>\n",
       "  </tbody>\n",
       "</table>\n",
       "</div>"
      ],
      "text/plain": [
       "  Observed Values  East  West  North  South\n",
       "0           Males    50   142    131     70\n",
       "1         Females   435  1523   1356    750"
      ]
     },
     "execution_count": 8,
     "metadata": {},
     "output_type": "execute_result"
    }
   ],
   "source": [
    "R=pd.read_csv(\"BuyerRatio.csv\")\n",
    "R.head()"
   ]
  },
  {
   "cell_type": "markdown",
   "id": "1cfe31d6",
   "metadata": {},
   "source": [
    "#####  Null Hypothesis = All proportions are equal \n",
    "#####  ALternative = Not All Proportions are not equal "
   ]
  },
  {
   "cell_type": "code",
   "execution_count": 9,
   "id": "52143a6a",
   "metadata": {},
   "outputs": [
    {
     "data": {
      "text/plain": [
       "array([[  50,  142,  131,   70],\n",
       "       [ 435, 1523, 1356,  750]])"
      ]
     },
     "execution_count": 9,
     "metadata": {},
     "output_type": "execute_result"
    }
   ],
   "source": [
    "ratio=np.array([[50,142,131,70],[435,1523,1356,750]])\n",
    "ratio"
   ]
  },
  {
   "cell_type": "code",
   "execution_count": 15,
   "id": "a25f61c8",
   "metadata": {},
   "outputs": [
    {
     "name": "stdout",
     "output_type": "stream",
     "text": [
      "stat=1.60, p=0.66030949\n",
      "Accept Null Hypothesis\n"
     ]
    }
   ],
   "source": [
    "# Chi square to compare categorical value\n",
    "stat, p, dof, expected = chi2_contingency(ratio)\n",
    "print('stat=%.2f, p=%.8f' % (stat, p))\n",
    "if p > 0.05:\n",
    "    print('Accept Null Hypothesis')\n",
    "else:\n",
    "    print('Reject Null Hypothesis')"
   ]
  },
  {
   "cell_type": "markdown",
   "id": "aedd0c49",
   "metadata": {},
   "source": [
    "### As p-value > 0.05 we will accept the null hypothesis"
   ]
  },
  {
   "cell_type": "markdown",
   "id": "5376fc94",
   "metadata": {},
   "source": [
    "# ======================================================="
   ]
  },
  {
   "cell_type": "markdown",
   "id": "d9e4ce69",
   "metadata": {},
   "source": [
    "# Hypothesis Testing-IV"
   ]
  },
  {
   "cell_type": "markdown",
   "id": "dff39f62",
   "metadata": {},
   "source": [
    "# TeleCall uses 4 centers around the globe to process customer order forms. They audit a certain %  of the customer order forms. Any error in order form renders it defective and has to be reworked before processing.  The manager wants to check whether the defective %  varies by centre. Please analyze the data at 5% significance level and help the manager draw appropriate inferences\n",
    "\n",
    "##### Minitab File: CustomerOrderForm.mtw\n"
   ]
  },
  {
   "cell_type": "code",
   "execution_count": null,
   "id": "0efad669",
   "metadata": {},
   "outputs": [],
   "source": [
    "TC=pd.read_csv(\"CostomerOrderForm.csv\")\n",
    "TC.head()"
   ]
  },
  {
   "cell_type": "markdown",
   "id": "849608e9",
   "metadata": {},
   "source": [
    "## Null Hypothesis-  no relationship between defective percenrtage and center\n",
    "## Alternate Hypothesis-  relationship between defective percentage and center"
   ]
  },
  {
   "cell_type": "code",
   "execution_count": null,
   "id": "ba2b8449",
   "metadata": {},
   "outputs": [],
   "source": [
    "TC.info()"
   ]
  },
  {
   "cell_type": "code",
   "execution_count": null,
   "id": "8fd974cc",
   "metadata": {},
   "outputs": [],
   "source": [
    "TC['Phillippines'].value_counts(),TC['Indonesia'].value_counts(),TC['Malta'].value_counts(),TC['India'].value_counts()"
   ]
  },
  {
   "cell_type": "code",
   "execution_count": null,
   "id": "0687612d",
   "metadata": {},
   "outputs": [],
   "source": [
    "data=np.array([[271,267,269,280],[29,33,31,20]])\n",
    "data"
   ]
  },
  {
   "cell_type": "code",
   "execution_count": null,
   "id": "7da9417f",
   "metadata": {},
   "outputs": [],
   "source": [
    "# Chi square to compare categorical value\n",
    "stat, p, dof, expected = chi2_contingency(data)\n",
    "print('stat=%.2f, p=%.8f' % (stat, p))\n",
    "if p > 0.05:\n",
    "    print('Accept Null Hypothesis')\n",
    "else:\n",
    "    print('Reject Null Hypothesis')"
   ]
  },
  {
   "cell_type": "markdown",
   "id": "f7ad0276",
   "metadata": {},
   "source": [
    "### As p-value > 0.05 we will accept the null hypothesis"
   ]
  }
 ],
 "metadata": {
  "kernelspec": {
   "display_name": "Python 3 (ipykernel)",
   "language": "python",
   "name": "python3"
  },
  "language_info": {
   "codemirror_mode": {
    "name": "ipython",
    "version": 3
   },
   "file_extension": ".py",
   "mimetype": "text/x-python",
   "name": "python",
   "nbconvert_exporter": "python",
   "pygments_lexer": "ipython3",
   "version": "3.9.12"
  }
 },
 "nbformat": 4,
 "nbformat_minor": 5
}
