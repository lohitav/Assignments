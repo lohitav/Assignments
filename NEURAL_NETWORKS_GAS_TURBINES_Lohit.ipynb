{
 "cells": [
  {
   "cell_type": "markdown",
   "metadata": {},
   "source": [
    "    The dataset contains 36733 instances of 11 sensor measures aggregated over one hour (by means of average or sum) from a gas turbine. \n",
    "    The Dataset includes gas turbine parameters (such as Turbine Inlet Temperature and Compressor Discharge pressure) in addition to the ambient variables.\n",
    "\n",
    "\n",
    "\n",
    "    Problem statement: predicting turbine energy yield (TEY) using ambient variables as features.\n",
    "\n",
    "\n",
    "\n",
    "    Attribute Information:\n",
    "\n",
    "    The explanations of sensor measurements and their brief statistics are given below.\n",
    "\n",
    "+ Variable (Abbr.) Unit Min Max Mean\n",
    "+ Ambient temperature (AT) C â€“6.23 37.10 17.71\n",
    "+ Ambient pressure (AP) mbar 985.85 1036.56 1013.07\n",
    "+ Ambient humidity (AH) (%) 24.08 100.20 77.87\n",
    "+ Air filter difference pressure (AFDP) mbar 2.09 7.61 3.93\n",
    "+ Gas turbine exhaust pressure (GTEP) mbar 17.70 40.72 25.56\n",
    "+ Turbine inlet temperature (TIT) C 1000.85 1100.89 1081.43\n",
    "+ Turbine after temperature (TAT) C 511.04 550.61 546.16\n",
    "+ Compressor discharge pressure (CDP) mbar 9.85 15.16 12.06\n",
    "+ Turbine energy yield (TEY) MWH 100.02 179.50 133.51\n",
    "+ Carbon monoxide (CO) mg/m3 0.00 44.10 2.37\n",
    "+ Nitrogen oxides (NOx) mg/m3 25.90 119.91 65.29"
   ]
  },
  {
   "cell_type": "code",
   "execution_count": 1,
   "metadata": {},
   "outputs": [
    {
     "name": "stderr",
     "output_type": "stream",
     "text": [
      "/Users/ayaskantsamal/opt/anaconda3/lib/python3.9/site-packages/scipy/__init__.py:146: UserWarning: A NumPy version >=1.16.5 and <1.23.0 is required for this version of SciPy (detected version 1.23.5\n",
      "  warnings.warn(f\"A NumPy version >={np_minversion} and <{np_maxversion}\"\n"
     ]
    }
   ],
   "source": [
    "import numpy as np\n",
    "import pandas as pd\n",
    "import matplotlib.pyplot as plt\n",
    "\n",
    "from keras.models import Sequential\n",
    "from keras.layers import Dense\n",
    "\n",
    "from sklearn.preprocessing import StandardScaler\n",
    "\n",
    "from sklearn.compose import ColumnTransformer"
   ]
  },
  {
   "cell_type": "code",
   "execution_count": 22,
   "metadata": {},
   "outputs": [
    {
     "data": {
      "text/html": [
       "<div>\n",
       "<style scoped>\n",
       "    .dataframe tbody tr th:only-of-type {\n",
       "        vertical-align: middle;\n",
       "    }\n",
       "\n",
       "    .dataframe tbody tr th {\n",
       "        vertical-align: top;\n",
       "    }\n",
       "\n",
       "    .dataframe thead th {\n",
       "        text-align: right;\n",
       "    }\n",
       "</style>\n",
       "<table border=\"1\" class=\"dataframe\">\n",
       "  <thead>\n",
       "    <tr style=\"text-align: right;\">\n",
       "      <th></th>\n",
       "      <th>AT</th>\n",
       "      <th>AP</th>\n",
       "      <th>AH</th>\n",
       "      <th>AFDP</th>\n",
       "      <th>GTEP</th>\n",
       "      <th>TIT</th>\n",
       "      <th>TAT</th>\n",
       "      <th>TEY</th>\n",
       "      <th>CDP</th>\n",
       "      <th>CO</th>\n",
       "      <th>NOX</th>\n",
       "    </tr>\n",
       "  </thead>\n",
       "  <tbody>\n",
       "    <tr>\n",
       "      <th>0</th>\n",
       "      <td>6.8594</td>\n",
       "      <td>1007.9</td>\n",
       "      <td>96.799</td>\n",
       "      <td>3.5000</td>\n",
       "      <td>19.663</td>\n",
       "      <td>1059.2</td>\n",
       "      <td>550.00</td>\n",
       "      <td>114.70</td>\n",
       "      <td>10.605</td>\n",
       "      <td>3.1547</td>\n",
       "      <td>82.722</td>\n",
       "    </tr>\n",
       "    <tr>\n",
       "      <th>1</th>\n",
       "      <td>6.7850</td>\n",
       "      <td>1008.4</td>\n",
       "      <td>97.118</td>\n",
       "      <td>3.4998</td>\n",
       "      <td>19.728</td>\n",
       "      <td>1059.3</td>\n",
       "      <td>550.00</td>\n",
       "      <td>114.72</td>\n",
       "      <td>10.598</td>\n",
       "      <td>3.2363</td>\n",
       "      <td>82.776</td>\n",
       "    </tr>\n",
       "    <tr>\n",
       "      <th>2</th>\n",
       "      <td>6.8977</td>\n",
       "      <td>1008.8</td>\n",
       "      <td>95.939</td>\n",
       "      <td>3.4824</td>\n",
       "      <td>19.779</td>\n",
       "      <td>1059.4</td>\n",
       "      <td>549.87</td>\n",
       "      <td>114.71</td>\n",
       "      <td>10.601</td>\n",
       "      <td>3.2012</td>\n",
       "      <td>82.468</td>\n",
       "    </tr>\n",
       "    <tr>\n",
       "      <th>3</th>\n",
       "      <td>7.0569</td>\n",
       "      <td>1009.2</td>\n",
       "      <td>95.249</td>\n",
       "      <td>3.4805</td>\n",
       "      <td>19.792</td>\n",
       "      <td>1059.6</td>\n",
       "      <td>549.99</td>\n",
       "      <td>114.72</td>\n",
       "      <td>10.606</td>\n",
       "      <td>3.1923</td>\n",
       "      <td>82.670</td>\n",
       "    </tr>\n",
       "    <tr>\n",
       "      <th>4</th>\n",
       "      <td>7.3978</td>\n",
       "      <td>1009.7</td>\n",
       "      <td>95.150</td>\n",
       "      <td>3.4976</td>\n",
       "      <td>19.765</td>\n",
       "      <td>1059.7</td>\n",
       "      <td>549.98</td>\n",
       "      <td>114.72</td>\n",
       "      <td>10.612</td>\n",
       "      <td>3.2484</td>\n",
       "      <td>82.311</td>\n",
       "    </tr>\n",
       "  </tbody>\n",
       "</table>\n",
       "</div>"
      ],
      "text/plain": [
       "       AT      AP      AH    AFDP    GTEP     TIT     TAT     TEY     CDP  \\\n",
       "0  6.8594  1007.9  96.799  3.5000  19.663  1059.2  550.00  114.70  10.605   \n",
       "1  6.7850  1008.4  97.118  3.4998  19.728  1059.3  550.00  114.72  10.598   \n",
       "2  6.8977  1008.8  95.939  3.4824  19.779  1059.4  549.87  114.71  10.601   \n",
       "3  7.0569  1009.2  95.249  3.4805  19.792  1059.6  549.99  114.72  10.606   \n",
       "4  7.3978  1009.7  95.150  3.4976  19.765  1059.7  549.98  114.72  10.612   \n",
       "\n",
       "       CO     NOX  \n",
       "0  3.1547  82.722  \n",
       "1  3.2363  82.776  \n",
       "2  3.2012  82.468  \n",
       "3  3.1923  82.670  \n",
       "4  3.2484  82.311  "
      ]
     },
     "execution_count": 22,
     "metadata": {},
     "output_type": "execute_result"
    }
   ],
   "source": [
    "df=pd.read_csv('/Users/ayaskantsamal/Documents/EXCELR/assignments/gas_turbines.csv')\n",
    "df.head()"
   ]
  },
  {
   "cell_type": "code",
   "execution_count": 23,
   "metadata": {},
   "outputs": [
    {
     "data": {
      "text/plain": [
       "(15039, 11)"
      ]
     },
     "execution_count": 23,
     "metadata": {},
     "output_type": "execute_result"
    }
   ],
   "source": [
    "df.shape"
   ]
  },
  {
   "cell_type": "code",
   "execution_count": 24,
   "metadata": {},
   "outputs": [
    {
     "name": "stdout",
     "output_type": "stream",
     "text": [
      "<class 'pandas.core.frame.DataFrame'>\n",
      "RangeIndex: 15039 entries, 0 to 15038\n",
      "Data columns (total 11 columns):\n",
      " #   Column  Non-Null Count  Dtype  \n",
      "---  ------  --------------  -----  \n",
      " 0   AT      15039 non-null  float64\n",
      " 1   AP      15039 non-null  float64\n",
      " 2   AH      15039 non-null  float64\n",
      " 3   AFDP    15039 non-null  float64\n",
      " 4   GTEP    15039 non-null  float64\n",
      " 5   TIT     15039 non-null  float64\n",
      " 6   TAT     15039 non-null  float64\n",
      " 7   TEY     15039 non-null  float64\n",
      " 8   CDP     15039 non-null  float64\n",
      " 9   CO      15039 non-null  float64\n",
      " 10  NOX     15039 non-null  float64\n",
      "dtypes: float64(11)\n",
      "memory usage: 1.3 MB\n"
     ]
    }
   ],
   "source": [
    "df.info()"
   ]
  },
  {
   "cell_type": "code",
   "execution_count": 25,
   "metadata": {},
   "outputs": [
    {
     "data": {
      "text/html": [
       "<div>\n",
       "<style scoped>\n",
       "    .dataframe tbody tr th:only-of-type {\n",
       "        vertical-align: middle;\n",
       "    }\n",
       "\n",
       "    .dataframe tbody tr th {\n",
       "        vertical-align: top;\n",
       "    }\n",
       "\n",
       "    .dataframe thead th {\n",
       "        text-align: right;\n",
       "    }\n",
       "</style>\n",
       "<table border=\"1\" class=\"dataframe\">\n",
       "  <thead>\n",
       "    <tr style=\"text-align: right;\">\n",
       "      <th></th>\n",
       "      <th>AT</th>\n",
       "      <th>AP</th>\n",
       "      <th>AH</th>\n",
       "      <th>AFDP</th>\n",
       "      <th>GTEP</th>\n",
       "      <th>TIT</th>\n",
       "      <th>TAT</th>\n",
       "      <th>TEY</th>\n",
       "      <th>CDP</th>\n",
       "      <th>CO</th>\n",
       "      <th>NOX</th>\n",
       "    </tr>\n",
       "  </thead>\n",
       "  <tbody>\n",
       "    <tr>\n",
       "      <th>count</th>\n",
       "      <td>15039.000000</td>\n",
       "      <td>15039.00000</td>\n",
       "      <td>15039.000000</td>\n",
       "      <td>15039.000000</td>\n",
       "      <td>15039.000000</td>\n",
       "      <td>15039.000000</td>\n",
       "      <td>15039.000000</td>\n",
       "      <td>15039.000000</td>\n",
       "      <td>15039.000000</td>\n",
       "      <td>15039.000000</td>\n",
       "      <td>15039.000000</td>\n",
       "    </tr>\n",
       "    <tr>\n",
       "      <th>mean</th>\n",
       "      <td>17.764381</td>\n",
       "      <td>1013.19924</td>\n",
       "      <td>79.124174</td>\n",
       "      <td>4.200294</td>\n",
       "      <td>25.419061</td>\n",
       "      <td>1083.798770</td>\n",
       "      <td>545.396183</td>\n",
       "      <td>134.188464</td>\n",
       "      <td>12.102353</td>\n",
       "      <td>1.972499</td>\n",
       "      <td>68.190934</td>\n",
       "    </tr>\n",
       "    <tr>\n",
       "      <th>std</th>\n",
       "      <td>7.574323</td>\n",
       "      <td>6.41076</td>\n",
       "      <td>13.793439</td>\n",
       "      <td>0.760197</td>\n",
       "      <td>4.173916</td>\n",
       "      <td>16.527806</td>\n",
       "      <td>7.866803</td>\n",
       "      <td>15.829717</td>\n",
       "      <td>1.103196</td>\n",
       "      <td>2.222206</td>\n",
       "      <td>10.470586</td>\n",
       "    </tr>\n",
       "    <tr>\n",
       "      <th>min</th>\n",
       "      <td>0.522300</td>\n",
       "      <td>985.85000</td>\n",
       "      <td>30.344000</td>\n",
       "      <td>2.087400</td>\n",
       "      <td>17.878000</td>\n",
       "      <td>1000.800000</td>\n",
       "      <td>512.450000</td>\n",
       "      <td>100.170000</td>\n",
       "      <td>9.904400</td>\n",
       "      <td>0.000388</td>\n",
       "      <td>27.765000</td>\n",
       "    </tr>\n",
       "    <tr>\n",
       "      <th>25%</th>\n",
       "      <td>11.408000</td>\n",
       "      <td>1008.90000</td>\n",
       "      <td>69.750000</td>\n",
       "      <td>3.723900</td>\n",
       "      <td>23.294000</td>\n",
       "      <td>1079.600000</td>\n",
       "      <td>542.170000</td>\n",
       "      <td>127.985000</td>\n",
       "      <td>11.622000</td>\n",
       "      <td>0.858055</td>\n",
       "      <td>61.303500</td>\n",
       "    </tr>\n",
       "    <tr>\n",
       "      <th>50%</th>\n",
       "      <td>18.186000</td>\n",
       "      <td>1012.80000</td>\n",
       "      <td>82.266000</td>\n",
       "      <td>4.186200</td>\n",
       "      <td>25.082000</td>\n",
       "      <td>1088.700000</td>\n",
       "      <td>549.890000</td>\n",
       "      <td>133.780000</td>\n",
       "      <td>12.025000</td>\n",
       "      <td>1.390200</td>\n",
       "      <td>66.601000</td>\n",
       "    </tr>\n",
       "    <tr>\n",
       "      <th>75%</th>\n",
       "      <td>23.862500</td>\n",
       "      <td>1016.90000</td>\n",
       "      <td>90.043500</td>\n",
       "      <td>4.550900</td>\n",
       "      <td>27.184000</td>\n",
       "      <td>1096.000000</td>\n",
       "      <td>550.060000</td>\n",
       "      <td>140.895000</td>\n",
       "      <td>12.578000</td>\n",
       "      <td>2.160400</td>\n",
       "      <td>73.935500</td>\n",
       "    </tr>\n",
       "    <tr>\n",
       "      <th>max</th>\n",
       "      <td>34.929000</td>\n",
       "      <td>1034.20000</td>\n",
       "      <td>100.200000</td>\n",
       "      <td>7.610600</td>\n",
       "      <td>37.402000</td>\n",
       "      <td>1100.800000</td>\n",
       "      <td>550.610000</td>\n",
       "      <td>174.610000</td>\n",
       "      <td>15.081000</td>\n",
       "      <td>44.103000</td>\n",
       "      <td>119.890000</td>\n",
       "    </tr>\n",
       "  </tbody>\n",
       "</table>\n",
       "</div>"
      ],
      "text/plain": [
       "                 AT           AP            AH          AFDP          GTEP  \\\n",
       "count  15039.000000  15039.00000  15039.000000  15039.000000  15039.000000   \n",
       "mean      17.764381   1013.19924     79.124174      4.200294     25.419061   \n",
       "std        7.574323      6.41076     13.793439      0.760197      4.173916   \n",
       "min        0.522300    985.85000     30.344000      2.087400     17.878000   \n",
       "25%       11.408000   1008.90000     69.750000      3.723900     23.294000   \n",
       "50%       18.186000   1012.80000     82.266000      4.186200     25.082000   \n",
       "75%       23.862500   1016.90000     90.043500      4.550900     27.184000   \n",
       "max       34.929000   1034.20000    100.200000      7.610600     37.402000   \n",
       "\n",
       "                TIT           TAT           TEY           CDP            CO  \\\n",
       "count  15039.000000  15039.000000  15039.000000  15039.000000  15039.000000   \n",
       "mean    1083.798770    545.396183    134.188464     12.102353      1.972499   \n",
       "std       16.527806      7.866803     15.829717      1.103196      2.222206   \n",
       "min     1000.800000    512.450000    100.170000      9.904400      0.000388   \n",
       "25%     1079.600000    542.170000    127.985000     11.622000      0.858055   \n",
       "50%     1088.700000    549.890000    133.780000     12.025000      1.390200   \n",
       "75%     1096.000000    550.060000    140.895000     12.578000      2.160400   \n",
       "max     1100.800000    550.610000    174.610000     15.081000     44.103000   \n",
       "\n",
       "                NOX  \n",
       "count  15039.000000  \n",
       "mean      68.190934  \n",
       "std       10.470586  \n",
       "min       27.765000  \n",
       "25%       61.303500  \n",
       "50%       66.601000  \n",
       "75%       73.935500  \n",
       "max      119.890000  "
      ]
     },
     "execution_count": 25,
     "metadata": {},
     "output_type": "execute_result"
    }
   ],
   "source": [
    "df.describe()"
   ]
  },
  {
   "cell_type": "code",
   "execution_count": 26,
   "metadata": {},
   "outputs": [
    {
     "data": {
      "text/plain": [
       "Index(['AT', 'AP', 'AH', 'AFDP', 'GTEP', 'TIT', 'TAT', 'TEY', 'CDP', 'CO',\n",
       "       'NOX'],\n",
       "      dtype='object')"
      ]
     },
     "execution_count": 26,
     "metadata": {},
     "output_type": "execute_result"
    }
   ],
   "source": [
    "df.columns"
   ]
  },
  {
   "cell_type": "code",
   "execution_count": 27,
   "metadata": {},
   "outputs": [],
   "source": [
    "# Splitting into X and Y\n",
    "X=df.loc[:,['AT', 'AP', 'AH', 'AFDP', 'GTEP', 'TIT', 'TAT','CDP', 'CO','NOX']]\n",
    "y=df.loc[:,['TEY']]"
   ]
  },
  {
   "cell_type": "markdown",
   "metadata": {},
   "source": [
    "### Using ColumnTransformer to standardize X"
   ]
  },
  {
   "cell_type": "code",
   "execution_count": 28,
   "metadata": {},
   "outputs": [],
   "source": [
    "from sklearn.preprocessing import StandardScaler\n",
    "\n",
    "from sklearn.compose import ColumnTransformer\n",
    "\n",
    "t=[('num',StandardScaler(),['AT', 'AP', 'AH', 'AFDP', 'GTEP', 'TIT', 'TAT','CDP', 'CO','NOX'])]\n",
    "transformer=ColumnTransformer(transformers=t)\n",
    "\n",
    "# fit training data\n",
    "X= transformer.fit_transform(X)\n",
    "\n"
   ]
  },
  {
   "cell_type": "code",
   "execution_count": 29,
   "metadata": {},
   "outputs": [
    {
     "data": {
      "text/plain": [
       "array([[-1.4397781 , -0.82664395,  1.28143632, ..., -1.35733078,\n",
       "         0.53201195,  1.3878449 ],\n",
       "       [-1.44960109, -0.74864748,  1.30456402, ..., -1.36367619,\n",
       "         0.56873344,  1.39300237],\n",
       "       [-1.43472138, -0.68625031,  1.21908576, ..., -1.36095673,\n",
       "         0.5529378 ,  1.36358566],\n",
       "       ...,\n",
       "       [-1.38626659, -1.07623263,  1.47697056, ..., -1.46792219,\n",
       "         2.69592467,  2.17006209],\n",
       "       [-1.42042259, -0.99823616,  1.44159024, ..., -1.42259784,\n",
       "         1.9246834 ,  2.391165  ],\n",
       "       [-1.43073409, -0.93583899,  1.33465179, ..., -1.37727349,\n",
       "         1.35415028,  2.32153907]])"
      ]
     },
     "execution_count": 29,
     "metadata": {},
     "output_type": "execute_result"
    }
   ],
   "source": [
    "X"
   ]
  },
  {
   "cell_type": "code",
   "execution_count": 30,
   "metadata": {},
   "outputs": [],
   "source": [
    "# Splitting into training and testing set\n",
    "\n",
    "from sklearn.model_selection import train_test_split\n",
    "X_train,X_test,y_train,y_test=train_test_split(X,y,test_size=0.3,random_state=10)\n"
   ]
  },
  {
   "cell_type": "code",
   "execution_count": 31,
   "metadata": {},
   "outputs": [
    {
     "name": "stdout",
     "output_type": "stream",
     "text": [
      "Shape of training data (10527, 10)\n",
      "Shape of testing data (4512, 10)\n"
     ]
    }
   ],
   "source": [
    "print(\"Shape of training data\",X_train.shape)\n",
    "print(\"Shape of testing data\",X_test.shape)"
   ]
  },
  {
   "cell_type": "markdown",
   "metadata": {},
   "source": [
    "## Building Neural Network base model"
   ]
  },
  {
   "cell_type": "code",
   "execution_count": 32,
   "metadata": {},
   "outputs": [],
   "source": [
    "model = Sequential()\n",
    "model.add(Dense(20, input_dim=10,kernel_initializer='uniform', activation='relu'))\n",
    "model.add(Dense(15, kernel_initializer='uniform', activation='relu'))\n",
    "model.add(Dense(1, kernel_initializer='uniform', activation='linear'))\n",
    "\n"
   ]
  },
  {
   "cell_type": "code",
   "execution_count": 33,
   "metadata": {},
   "outputs": [],
   "source": [
    "import pydot\n",
    "import keras\n",
    "from keras.utils.vis_utils import plot_model\n",
    "keras.utils.vis_utils.pydot = pydot"
   ]
  },
  {
   "cell_type": "code",
   "execution_count": 34,
   "metadata": {},
   "outputs": [
    {
     "data": {
      "image/png": "[encoded data removed]",
      "text/plain": [
       "<IPython.core.display.Image object>"
      ]
     },
     "execution_count": 34,
     "metadata": {},
     "output_type": "execute_result"
    }
   ],
   "source": [
    "# Visualizing the neural network\n",
    "plot_model(model,show_shapes=True, show_layer_names=True)"
   ]
  },
  {
   "cell_type": "code",
   "execution_count": 35,
   "metadata": {},
   "outputs": [
    {
     "name": "stdout",
     "output_type": "stream",
     "text": [
      "Model: \"sequential_1\"\n",
      "_________________________________________________________________\n",
      " Layer (type)                Output Shape              Param #   \n",
      "=================================================================\n",
      " dense_3 (Dense)             (None, 20)                220       \n",
      "                                                                 \n",
      " dense_4 (Dense)             (None, 15)                315       \n",
      "                                                                 \n",
      " dense_5 (Dense)             (None, 1)                 16        \n",
      "                                                                 \n",
      "=================================================================\n",
      "Total params: 551\n",
      "Trainable params: 551\n",
      "Non-trainable params: 0\n",
      "_________________________________________________________________\n"
     ]
    }
   ],
   "source": [
    "# Summary of neural network\n",
    "model.summary()"
   ]
  },
  {
   "cell_type": "code",
   "execution_count": 36,
   "metadata": {},
   "outputs": [],
   "source": [
    "# Compile model\n",
    "\n",
    "model.compile(loss='mse', optimizer='adam',metrics=['mse','mae'])"
   ]
  },
  {
   "cell_type": "code",
   "execution_count": 37,
   "metadata": {},
   "outputs": [
    {
     "name": "stdout",
     "output_type": "stream",
     "text": [
      "Epoch 1/50\n",
      "11/11 [==============================] - 0s 13ms/step - loss: 18248.4180 - mse: 18248.4180 - mae: 134.1554 - val_loss: 18267.5566 - val_mse: 18267.5566 - val_mae: 134.2292\n",
      "Epoch 2/50\n",
      "11/11 [==============================] - 0s 3ms/step - loss: 18242.4258 - mse: 18242.4258 - mae: 134.1332 - val_loss: 18259.8945 - val_mse: 18259.8945 - val_mae: 134.2010\n",
      "Epoch 3/50\n",
      "11/11 [==============================] - 0s 3ms/step - loss: 18232.6934 - mse: 18232.6934 - mae: 134.0975 - val_loss: 18246.8008 - val_mse: 18246.8008 - val_mae: 134.1531\n",
      "Epoch 4/50\n",
      "11/11 [==============================] - 0s 3ms/step - loss: 18215.9180 - mse: 18215.9180 - mae: 134.0361 - val_loss: 18224.1152 - val_mse: 18224.1152 - val_mae: 134.0703\n",
      "Epoch 5/50\n",
      "11/11 [==============================] - 0s 4ms/step - loss: 18187.2930 - mse: 18187.2930 - mae: 133.9316 - val_loss: 18186.3086 - val_mse: 18186.3086 - val_mae: 133.9326\n",
      "Epoch 6/50\n",
      "11/11 [==============================] - 0s 3ms/step - loss: 18140.6504 - mse: 18140.6504 - mae: 133.7616 - val_loss: 18126.7988 - val_mse: 18126.7988 - val_mae: 133.7156\n",
      "Epoch 7/50\n",
      "11/11 [==============================] - 0s 3ms/step - loss: 18069.3145 - mse: 18069.3145 - mae: 133.5012 - val_loss: 18038.1211 - val_mse: 18038.1211 - val_mae: 133.3917\n",
      "Epoch 8/50\n",
      "11/11 [==============================] - 0s 3ms/step - loss: 17965.6113 - mse: 17965.6113 - mae: 133.1215 - val_loss: 17912.3652 - val_mse: 17912.3652 - val_mae: 132.9310\n",
      "Epoch 9/50\n",
      "11/11 [==============================] - 0s 3ms/step - loss: 17821.3516 - mse: 17821.3516 - mae: 132.5914 - val_loss: 17741.6895 - val_mse: 17741.6895 - val_mae: 132.3025\n",
      "Epoch 10/50\n",
      "11/11 [==============================] - 0s 3ms/step - loss: 17628.2012 - mse: 17628.2012 - mae: 131.8776 - val_loss: 17516.8574 - val_mse: 17516.8574 - val_mae: 131.4691\n",
      "Epoch 11/50\n",
      "11/11 [==============================] - 0s 3ms/step - loss: 17376.3105 - mse: 17376.3105 - mae: 130.9393 - val_loss: 17226.8633 - val_mse: 17226.8633 - val_mae: 130.3846\n",
      "Epoch 12/50\n",
      "11/11 [==============================] - 0s 3ms/step - loss: 17056.3652 - mse: 17056.3652 - mae: 129.7350 - val_loss: 16863.5938 - val_mse: 16863.5918 - val_mae: 129.0104\n",
      "Epoch 13/50\n",
      "11/11 [==============================] - 0s 3ms/step - loss: 16659.4922 - mse: 16659.4922 - mae: 128.2235 - val_loss: 16421.6797 - val_mse: 16421.6797 - val_mae: 127.3134\n",
      "Epoch 14/50\n",
      "11/11 [==============================] - 0s 3ms/step - loss: 16183.0664 - mse: 16183.0664 - mae: 126.3767 - val_loss: 15895.5586 - val_mse: 15895.5586 - val_mae: 125.2563\n",
      "Epoch 15/50\n",
      "11/11 [==============================] - 0s 3ms/step - loss: 15621.7578 - mse: 15621.7578 - mae: 124.1584 - val_loss: 15284.4697 - val_mse: 15284.4697 - val_mae: 122.8130\n",
      "Epoch 16/50\n",
      "11/11 [==============================] - 0s 3ms/step - loss: 14973.1348 - mse: 14973.1348 - mae: 121.5334 - val_loss: 14591.2832 - val_mse: 14591.2832 - val_mae: 119.9651\n",
      "Epoch 17/50\n",
      "11/11 [==============================] - 0s 3ms/step - loss: 14249.1787 - mse: 14249.1787 - mae: 118.5105 - val_loss: 13815.6992 - val_mse: 13815.6992 - val_mae: 116.6770\n",
      "Epoch 18/50\n",
      "11/11 [==============================] - 0s 3ms/step - loss: 13444.9043 - mse: 13444.9043 - mae: 115.0403 - val_loss: 12969.7549 - val_mse: 12969.7549 - val_mae: 112.9507\n",
      "Epoch 19/50\n",
      "11/11 [==============================] - 0s 3ms/step - loss: 12574.5391 - mse: 12574.5391 - mae: 111.1237 - val_loss: 12065.1787 - val_mse: 12065.1787 - val_mae: 108.7866\n",
      "Epoch 20/50\n",
      "11/11 [==============================] - 0s 3ms/step - loss: 11651.9453 - mse: 11651.9453 - mae: 106.7731 - val_loss: 11115.8818 - val_mse: 11115.8818 - val_mae: 104.1871\n",
      "Epoch 21/50\n",
      "11/11 [==============================] - 0s 3ms/step - loss: 10692.8535 - mse: 10692.8535 - mae: 101.9958 - val_loss: 10140.7617 - val_mse: 10140.7617 - val_mae: 99.1757\n",
      "Epoch 22/50\n",
      "11/11 [==============================] - 0s 3ms/step - loss: 9717.1074 - mse: 9717.1074 - mae: 96.8319 - val_loss: 9159.6670 - val_mse: 9159.6670 - val_mae: 93.7818\n",
      "Epoch 23/50\n",
      "11/11 [==============================] - 0s 3ms/step - loss: 8745.4814 - mse: 8745.4814 - mae: 91.3133 - val_loss: 8195.2012 - val_mse: 8195.2012 - val_mae: 88.0648\n",
      "Epoch 24/50\n",
      "11/11 [==============================] - 0s 3ms/step - loss: 7801.8799 - mse: 7801.8799 - mae: 85.5147 - val_loss: 7270.1177 - val_mse: 7270.1177 - val_mae: 82.0899\n",
      "Epoch 25/50\n",
      "11/11 [==============================] - 0s 3ms/step - loss: 6904.8716 - mse: 6904.8716 - mae: 79.4774 - val_loss: 6406.6494 - val_mse: 6406.6494 - val_mae: 75.9610\n",
      "Epoch 26/50\n",
      "11/11 [==============================] - 0s 3ms/step - loss: 6077.3706 - mse: 6077.3706 - mae: 73.3698 - val_loss: 5617.8467 - val_mse: 5617.8467 - val_mae: 69.7844\n",
      "Epoch 27/50\n",
      "11/11 [==============================] - 0s 3ms/step - loss: 5329.6606 - mse: 5329.6606 - mae: 67.2858 - val_loss: 4915.7559 - val_mse: 4915.7559 - val_mae: 63.7704\n",
      "Epoch 28/50\n",
      "11/11 [==============================] - 0s 3ms/step - loss: 4670.7676 - mse: 4670.7676 - mae: 61.4647 - val_loss: 4304.9272 - val_mse: 4304.9272 - val_mae: 58.1203\n",
      "Epoch 29/50\n",
      "11/11 [==============================] - 0s 3ms/step - loss: 4102.0137 - mse: 4102.0137 - mae: 56.1146 - val_loss: 3783.0059 - val_mse: 3783.0059 - val_mae: 53.0763\n",
      "Epoch 30/50\n",
      "11/11 [==============================] - 0s 3ms/step - loss: 3617.6167 - mse: 3617.6167 - mae: 51.4289 - val_loss: 3343.5781 - val_mse: 3343.5781 - val_mae: 48.7931\n",
      "Epoch 31/50\n",
      "11/11 [==============================] - 0s 3ms/step - loss: 3210.0442 - mse: 3210.0442 - mae: 47.5140 - val_loss: 2976.3652 - val_mse: 2976.3652 - val_mae: 45.3832\n",
      "Epoch 32/50\n",
      "11/11 [==============================] - 0s 3ms/step - loss: 2869.5566 - mse: 2869.5566 - mae: 44.3983 - val_loss: 2669.5544 - val_mse: 2669.5544 - val_mae: 42.6811\n",
      "Epoch 33/50\n",
      "11/11 [==============================] - 0s 3ms/step - loss: 2583.4573 - mse: 2583.4573 - mae: 41.8849 - val_loss: 2413.3882 - val_mse: 2413.3882 - val_mae: 40.4796\n",
      "Epoch 34/50\n",
      "11/11 [==============================] - 0s 4ms/step - loss: 2344.2761 - mse: 2344.2761 - mae: 39.8349 - val_loss: 2197.5247 - val_mse: 2197.5247 - val_mae: 38.6539\n",
      "Epoch 35/50\n",
      "11/11 [==============================] - 0s 3ms/step - loss: 2140.6487 - mse: 2140.6487 - mae: 38.0875 - val_loss: 2015.3326 - val_mse: 2015.3326 - val_mae: 37.0856\n",
      "Epoch 36/50\n",
      "11/11 [==============================] - 0s 3ms/step - loss: 1968.0809 - mse: 1968.0809 - mae: 36.5795 - val_loss: 1860.0013 - val_mse: 1860.0013 - val_mae: 35.6945\n",
      "Epoch 37/50\n",
      "11/11 [==============================] - 0s 3ms/step - loss: 1820.7922 - mse: 1820.7922 - mae: 35.2402 - val_loss: 1726.3094 - val_mse: 1726.3094 - val_mae: 34.4424\n",
      "Epoch 38/50\n",
      "11/11 [==============================] - 0s 3ms/step - loss: 1692.3262 - mse: 1692.3262 - mae: 34.0070 - val_loss: 1611.3649 - val_mse: 1611.3649 - val_mae: 33.2985\n",
      "Epoch 39/50\n",
      "11/11 [==============================] - 0s 3ms/step - loss: 1581.6631 - mse: 1581.6631 - mae: 32.8809 - val_loss: 1510.1039 - val_mse: 1510.1039 - val_mae: 32.2266\n",
      "Epoch 40/50\n",
      "11/11 [==============================] - 0s 3ms/step - loss: 1483.4763 - mse: 1483.4763 - mae: 31.8362 - val_loss: 1421.4452 - val_mse: 1421.4452 - val_mae: 31.2441\n",
      "Epoch 41/50\n",
      "11/11 [==============================] - 0s 3ms/step - loss: 1397.6978 - mse: 1397.6978 - mae: 30.8730 - val_loss: 1342.3925 - val_mse: 1342.3925 - val_mae: 30.3407\n",
      "Epoch 42/50\n",
      "11/11 [==============================] - 0s 3ms/step - loss: 1321.7327 - mse: 1321.7327 - mae: 29.9986 - val_loss: 1271.7434 - val_mse: 1271.7434 - val_mae: 29.5156\n",
      "Epoch 43/50\n",
      "11/11 [==============================] - 0s 3ms/step - loss: 1252.9558 - mse: 1252.9558 - mae: 29.1762 - val_loss: 1208.8335 - val_mse: 1208.8335 - val_mae: 28.7557\n",
      "Epoch 44/50\n",
      "11/11 [==============================] - 0s 3ms/step - loss: 1191.8304 - mse: 1191.8304 - mae: 28.4226 - val_loss: 1151.7773 - val_mse: 1151.7773 - val_mae: 28.0421\n",
      "Epoch 45/50\n",
      "11/11 [==============================] - 0s 3ms/step - loss: 1136.5946 - mse: 1136.5946 - mae: 27.7090 - val_loss: 1099.8691 - val_mse: 1099.8691 - val_mae: 27.3665\n",
      "Epoch 46/50\n",
      "11/11 [==============================] - 0s 3ms/step - loss: 1086.3521 - mse: 1086.3521 - mae: 27.0518 - val_loss: 1052.2975 - val_mse: 1052.2975 - val_mae: 26.7256\n"
     ]
    },
    {
     "name": "stdout",
     "output_type": "stream",
     "text": [
      "Epoch 47/50\n",
      "11/11 [==============================] - 0s 3ms/step - loss: 1040.5173 - mse: 1040.5172 - mae: 26.4275 - val_loss: 1008.7058 - val_mse: 1008.7058 - val_mae: 26.1267\n",
      "Epoch 48/50\n",
      "11/11 [==============================] - 0s 3ms/step - loss: 998.3809 - mse: 998.3809 - mae: 25.8478 - val_loss: 968.5292 - val_mse: 968.5292 - val_mae: 25.5590\n",
      "Epoch 49/50\n",
      "11/11 [==============================] - 0s 3ms/step - loss: 959.7070 - mse: 959.7070 - mae: 25.3021 - val_loss: 931.4597 - val_mse: 931.4597 - val_mae: 25.0264\n",
      "Epoch 50/50\n",
      "11/11 [==============================] - 0s 3ms/step - loss: 923.9446 - mse: 923.9446 - mae: 24.7883 - val_loss: 896.8391 - val_mse: 896.8391 - val_mae: 24.5138\n"
     ]
    }
   ],
   "source": [
    "# Training and evaluating the model\n",
    "history=model.fit(X_train, y_train, validation_data=(X_test,y_test),epochs =50, batch_size=1000)"
   ]
  },
  {
   "cell_type": "code",
   "execution_count": 38,
   "metadata": {},
   "outputs": [
    {
     "data": {
      "image/png": "[encoded data removed]",
      "text/plain": [
       "<Figure size 432x288 with 1 Axes>"
      ]
     },
     "metadata": {
      "needs_background": "light"
     },
     "output_type": "display_data"
    }
   ],
   "source": [
    "# plot loss during training\n",
    "\n",
    "plt.title('Model Loss(MSE)')\n",
    "plt.plot(history.history['loss'], label='train')\n",
    "plt.plot(history.history['val_loss'], label='test')\n",
    "plt.ylabel('MSE')\n",
    "plt.xlabel('epoch')\n",
    "\n",
    "plt.legend()\n",
    "plt.show()"
   ]
  },
  {
   "cell_type": "code",
   "execution_count": 39,
   "metadata": {},
   "outputs": [
    {
     "name": "stdout",
     "output_type": "stream",
     "text": [
      "329/329 [==============================] - 0s 388us/step\n",
      "141/141 [==============================] - 0s 403us/step\n",
      "Training set rmse: 30.082, Testing set rmse: 29.947\n"
     ]
    }
   ],
   "source": [
    "# evaluate the model\n",
    "\n",
    "y_train_pred= model.predict(X_train)\n",
    "y_test_pred= model.predict(X_test)\n",
    "\n",
    "from sklearn.metrics import mean_squared_error\n",
    "\n",
    "train_rmse = mean_squared_error(y_train,y_train_pred,squared=False)\n",
    "test_rmse = mean_squared_error(y_test, y_test_pred,squared=False)\n",
    "\n",
    "print('Training set rmse: %.3f, Testing set rmse: %.3f' % (train_rmse, test_rmse))"
   ]
  },
  {
   "cell_type": "markdown",
   "metadata": {},
   "source": [
    "## Hyperparameter Tuning using RandomizedSearchCV"
   ]
  },
  {
   "cell_type": "markdown",
   "metadata": {},
   "source": [
    "https://towardsdatascience.com/regression-based-neural-networks-with-tensorflow-v2-0-predicting-average-daily-rates-e20fffa7ac9a"
   ]
  },
  {
   "cell_type": "code",
   "execution_count": 40,
   "metadata": {},
   "outputs": [],
   "source": [
    "from sklearn.model_selection import RandomizedSearchCV, KFold"
   ]
  },
  {
   "cell_type": "code",
   "execution_count": 41,
   "metadata": {},
   "outputs": [],
   "source": [
    "from keras.optimizers import Adam"
   ]
  },
  {
   "cell_type": "code",
   "execution_count": 42,
   "metadata": {},
   "outputs": [],
   "source": [
    "from keras.wrappers.scikit_learn import KerasRegressor\n"
   ]
  },
  {
   "cell_type": "code",
   "execution_count": 43,
   "metadata": {},
   "outputs": [],
   "source": [
    "# Building a keras regression model\n",
    "\n",
    "def keras_reg_model(learning_rate,activation_function,init,neuron1,neuron2):\n",
    "    \n",
    "    model = Sequential()\n",
    "    \n",
    "    model.add(Dense(neuron1,input_dim = 10,kernel_initializer = init,activation = activation_function))\n",
    " \n",
    "    model.add(Dense(neuron2,input_dim = neuron1,kernel_initializer = init,activation = activation_function))\n",
    "\n",
    "    model.add(Dense(1,activation = 'linear'))\n",
    "    \n",
    "    adam = Adam(lr = learning_rate)\n",
    "    \n",
    "    model.compile(loss = 'mse',optimizer = adam,metrics = ['mse','mae'])\n",
    "    return model"
   ]
  },
  {
   "cell_type": "code",
   "execution_count": 44,
   "metadata": {},
   "outputs": [
    {
     "name": "stderr",
     "output_type": "stream",
     "text": [
      "/var/folders/2q/mbjnnv1x4x701wdq7m9tmg3m0000gn/T/ipykernel_94671/2207362372.py:3: DeprecationWarning: KerasRegressor is deprecated, use Sci-Keras (https://github.com/adriangb/scikeras) instead. See https://www.adriangb.com/scikeras/stable/migration.html for help migrating.\n",
      "  keras_reg = KerasRegressor(build_fn = keras_reg_model,verbose = 0)\n"
     ]
    }
   ],
   "source": [
    "# Wrapping the keras model in a object\n",
    "\n",
    "keras_reg = KerasRegressor(build_fn = keras_reg_model,verbose = 0)"
   ]
  },
  {
   "cell_type": "code",
   "execution_count": 45,
   "metadata": {},
   "outputs": [
    {
     "name": "stdout",
     "output_type": "stream",
     "text": [
      "Fitting 5 folds for each of 10 candidates, totalling 50 fits\n"
     ]
    },
    {
     "name": "stderr",
     "output_type": "stream",
     "text": [
      "/Users/ayaskantsamal/opt/anaconda3/lib/python3.9/site-packages/scipy/__init__.py:146: UserWarning: A NumPy version >=1.16.5 and <1.23.0 is required for this version of SciPy (detected version 1.23.5\n",
      "  warnings.warn(f\"A NumPy version >={np_minversion} and <{np_maxversion}\"\n",
      "/Users/ayaskantsamal/opt/anaconda3/lib/python3.9/site-packages/scipy/__init__.py:146: UserWarning: A NumPy version >=1.16.5 and <1.23.0 is required for this version of SciPy (detected version 1.23.5\n",
      "  warnings.warn(f\"A NumPy version >={np_minversion} and <{np_maxversion}\"\n",
      "/Users/ayaskantsamal/opt/anaconda3/lib/python3.9/site-packages/scipy/__init__.py:146: UserWarning: A NumPy version >=1.16.5 and <1.23.0 is required for this version of SciPy (detected version 1.23.5\n",
      "  warnings.warn(f\"A NumPy version >={np_minversion} and <{np_maxversion}\"\n",
      "/Users/ayaskantsamal/opt/anaconda3/lib/python3.9/site-packages/scipy/__init__.py:146: UserWarning: A NumPy version >=1.16.5 and <1.23.0 is required for this version of SciPy (detected version 1.23.5\n",
      "  warnings.warn(f\"A NumPy version >={np_minversion} and <{np_maxversion}\"\n",
      "/Users/ayaskantsamal/opt/anaconda3/lib/python3.9/site-packages/scipy/__init__.py:146: UserWarning: A NumPy version >=1.16.5 and <1.23.0 is required for this version of SciPy (detected version 1.23.5\n",
      "  warnings.warn(f\"A NumPy version >={np_minversion} and <{np_maxversion}\"\n",
      "/Users/ayaskantsamal/opt/anaconda3/lib/python3.9/site-packages/scipy/__init__.py:146: UserWarning: A NumPy version >=1.16.5 and <1.23.0 is required for this version of SciPy (detected version 1.23.5\n",
      "  warnings.warn(f\"A NumPy version >={np_minversion} and <{np_maxversion}\"\n",
      "/Users/ayaskantsamal/opt/anaconda3/lib/python3.9/site-packages/scipy/__init__.py:146: UserWarning: A NumPy version >=1.16.5 and <1.23.0 is required for this version of SciPy (detected version 1.23.5\n",
      "  warnings.warn(f\"A NumPy version >={np_minversion} and <{np_maxversion}\"\n",
      "/Users/ayaskantsamal/opt/anaconda3/lib/python3.9/site-packages/scipy/__init__.py:146: UserWarning: A NumPy version >=1.16.5 and <1.23.0 is required for this version of SciPy (detected version 1.23.5\n",
      "  warnings.warn(f\"A NumPy version >={np_minversion} and <{np_maxversion}\"\n",
      "2022-11-27 06:35:04.620020: I tensorflow/core/platform/cpu_feature_guard.cc:193] This TensorFlow binary is optimized with oneAPI Deep Neural Network Library (oneDNN) to use the following CPU instructions in performance-critical operations:  SSE4.1 SSE4.2\n",
      "To enable them in other operations, rebuild TensorFlow with the appropriate compiler flags.\n",
      "2022-11-27 06:35:04.619602: I tensorflow/core/platform/cpu_feature_guard.cc:193] This TensorFlow binary is optimized with oneAPI Deep Neural Network Library (oneDNN) to use the following CPU instructions in performance-critical operations:  SSE4.1 SSE4.2\n",
      "To enable them in other operations, rebuild TensorFlow with the appropriate compiler flags.\n",
      "2022-11-27 06:35:04.620614: I tensorflow/core/platform/cpu_feature_guard.cc:193] This TensorFlow binary is optimized with oneAPI Deep Neural Network Library (oneDNN) to use the following CPU instructions in performance-critical operations:  SSE4.1 SSE4.2\n",
      "To enable them in other operations, rebuild TensorFlow with the appropriate compiler flags.\n",
      "2022-11-27 06:35:04.620381: I tensorflow/core/platform/cpu_feature_guard.cc:193] This TensorFlow binary is optimized with oneAPI Deep Neural Network Library (oneDNN) to use the following CPU instructions in performance-critical operations:  SSE4.1 SSE4.2\n",
      "To enable them in other operations, rebuild TensorFlow with the appropriate compiler flags.\n",
      "2022-11-27 06:35:04.621436: I tensorflow/core/platform/cpu_feature_guard.cc:193] This TensorFlow binary is optimized with oneAPI Deep Neural Network Library (oneDNN) to use the following CPU instructions in performance-critical operations:  SSE4.1 SSE4.2\n",
      "To enable them in other operations, rebuild TensorFlow with the appropriate compiler flags.\n",
      "2022-11-27 06:35:04.621844: I tensorflow/core/platform/cpu_feature_guard.cc:193] This TensorFlow binary is optimized with oneAPI Deep Neural Network Library (oneDNN) to use the following CPU instructions in performance-critical operations:  SSE4.1 SSE4.2\n",
      "To enable them in other operations, rebuild TensorFlow with the appropriate compiler flags.\n",
      "2022-11-27 06:35:04.620357: I tensorflow/core/platform/cpu_feature_guard.cc:193] This TensorFlow binary is optimized with oneAPI Deep Neural Network Library (oneDNN) to use the following CPU instructions in performance-critical operations:  SSE4.1 SSE4.2\n",
      "To enable them in other operations, rebuild TensorFlow with the appropriate compiler flags.\n",
      "2022-11-27 06:35:04.621600: I tensorflow/core/platform/cpu_feature_guard.cc:193] This TensorFlow binary is optimized with oneAPI Deep Neural Network Library (oneDNN) to use the following CPU instructions in performance-critical operations:  SSE4.1 SSE4.2\n",
      "To enable them in other operations, rebuild TensorFlow with the appropriate compiler flags.\n",
      "/Users/ayaskantsamal/opt/anaconda3/lib/python3.9/site-packages/keras/optimizers/optimizer_v2/adam.py:110: UserWarning: The `lr` argument is deprecated, use `learning_rate` instead.\n",
      "  super(Adam, self).__init__(name, **kwargs)\n",
      "/Users/ayaskantsamal/opt/anaconda3/lib/python3.9/site-packages/keras/optimizers/optimizer_v2/adam.py:110: UserWarning: The `lr` argument is deprecated, use `learning_rate` instead.\n",
      "  super(Adam, self).__init__(name, **kwargs)\n",
      "/Users/ayaskantsamal/opt/anaconda3/lib/python3.9/site-packages/keras/optimizers/optimizer_v2/adam.py:110: UserWarning: The `lr` argument is deprecated, use `learning_rate` instead.\n",
      "  super(Adam, self).__init__(name, **kwargs)\n",
      "/Users/ayaskantsamal/opt/anaconda3/lib/python3.9/site-packages/keras/optimizers/optimizer_v2/adam.py:110: UserWarning: The `lr` argument is deprecated, use `learning_rate` instead.\n",
      "  super(Adam, self).__init__(name, **kwargs)\n",
      "/Users/ayaskantsamal/opt/anaconda3/lib/python3.9/site-packages/keras/optimizers/optimizer_v2/adam.py:110: UserWarning: The `lr` argument is deprecated, use `learning_rate` instead.\n",
      "  super(Adam, self).__init__(name, **kwargs)\n",
      "/Users/ayaskantsamal/opt/anaconda3/lib/python3.9/site-packages/keras/optimizers/optimizer_v2/adam.py:110: UserWarning: The `lr` argument is deprecated, use `learning_rate` instead.\n",
      "  super(Adam, self).__init__(name, **kwargs)\n",
      "/Users/ayaskantsamal/opt/anaconda3/lib/python3.9/site-packages/keras/optimizers/optimizer_v2/adam.py:110: UserWarning: The `lr` argument is deprecated, use `learning_rate` instead.\n",
      "  super(Adam, self).__init__(name, **kwargs)\n",
      "/Users/ayaskantsamal/opt/anaconda3/lib/python3.9/site-packages/keras/optimizers/optimizer_v2/adam.py:110: UserWarning: The `lr` argument is deprecated, use `learning_rate` instead.\n",
      "  super(Adam, self).__init__(name, **kwargs)\n",
      "/Users/ayaskantsamal/opt/anaconda3/lib/python3.9/site-packages/keras/optimizers/optimizer_v2/adam.py:110: UserWarning: The `lr` argument is deprecated, use `learning_rate` instead.\n",
      "  super(Adam, self).__init__(name, **kwargs)\n",
      "/Users/ayaskantsamal/opt/anaconda3/lib/python3.9/site-packages/keras/optimizers/optimizer_v2/adam.py:110: UserWarning: The `lr` argument is deprecated, use `learning_rate` instead.\n",
      "  super(Adam, self).__init__(name, **kwargs)\n",
      "/Users/ayaskantsamal/opt/anaconda3/lib/python3.9/site-packages/keras/optimizers/optimizer_v2/adam.py:110: UserWarning: The `lr` argument is deprecated, use `learning_rate` instead.\n",
      "  super(Adam, self).__init__(name, **kwargs)\n",
      "/Users/ayaskantsamal/opt/anaconda3/lib/python3.9/site-packages/keras/optimizers/optimizer_v2/adam.py:110: UserWarning: The `lr` argument is deprecated, use `learning_rate` instead.\n",
      "  super(Adam, self).__init__(name, **kwargs)\n",
      "/Users/ayaskantsamal/opt/anaconda3/lib/python3.9/site-packages/keras/optimizers/optimizer_v2/adam.py:110: UserWarning: The `lr` argument is deprecated, use `learning_rate` instead.\n",
      "  super(Adam, self).__init__(name, **kwargs)\n",
      "/Users/ayaskantsamal/opt/anaconda3/lib/python3.9/site-packages/keras/optimizers/optimizer_v2/adam.py:110: UserWarning: The `lr` argument is deprecated, use `learning_rate` instead.\n",
      "  super(Adam, self).__init__(name, **kwargs)\n",
      "/Users/ayaskantsamal/opt/anaconda3/lib/python3.9/site-packages/keras/optimizers/optimizer_v2/adam.py:110: UserWarning: The `lr` argument is deprecated, use `learning_rate` instead.\n",
      "  super(Adam, self).__init__(name, **kwargs)\n",
      "/Users/ayaskantsamal/opt/anaconda3/lib/python3.9/site-packages/keras/optimizers/optimizer_v2/adam.py:110: UserWarning: The `lr` argument is deprecated, use `learning_rate` instead.\n",
      "  super(Adam, self).__init__(name, **kwargs)\n"
     ]
    },
    {
     "name": "stderr",
     "output_type": "stream",
     "text": [
      "/Users/ayaskantsamal/opt/anaconda3/lib/python3.9/site-packages/keras/optimizers/optimizer_v2/adam.py:110: UserWarning: The `lr` argument is deprecated, use `learning_rate` instead.\n",
      "  super(Adam, self).__init__(name, **kwargs)\n",
      "/Users/ayaskantsamal/opt/anaconda3/lib/python3.9/site-packages/keras/optimizers/optimizer_v2/adam.py:110: UserWarning: The `lr` argument is deprecated, use `learning_rate` instead.\n",
      "  super(Adam, self).__init__(name, **kwargs)\n",
      "/Users/ayaskantsamal/opt/anaconda3/lib/python3.9/site-packages/keras/optimizers/optimizer_v2/adam.py:110: UserWarning: The `lr` argument is deprecated, use `learning_rate` instead.\n",
      "  super(Adam, self).__init__(name, **kwargs)\n",
      "/Users/ayaskantsamal/opt/anaconda3/lib/python3.9/site-packages/keras/optimizers/optimizer_v2/adam.py:110: UserWarning: The `lr` argument is deprecated, use `learning_rate` instead.\n",
      "  super(Adam, self).__init__(name, **kwargs)\n",
      "/Users/ayaskantsamal/opt/anaconda3/lib/python3.9/site-packages/keras/optimizers/optimizer_v2/adam.py:110: UserWarning: The `lr` argument is deprecated, use `learning_rate` instead.\n",
      "  super(Adam, self).__init__(name, **kwargs)\n",
      "/Users/ayaskantsamal/opt/anaconda3/lib/python3.9/site-packages/keras/optimizers/optimizer_v2/adam.py:110: UserWarning: The `lr` argument is deprecated, use `learning_rate` instead.\n",
      "  super(Adam, self).__init__(name, **kwargs)\n",
      "/Users/ayaskantsamal/opt/anaconda3/lib/python3.9/site-packages/keras/optimizers/optimizer_v2/adam.py:110: UserWarning: The `lr` argument is deprecated, use `learning_rate` instead.\n",
      "  super(Adam, self).__init__(name, **kwargs)\n",
      "/Users/ayaskantsamal/opt/anaconda3/lib/python3.9/site-packages/keras/optimizers/optimizer_v2/adam.py:110: UserWarning: The `lr` argument is deprecated, use `learning_rate` instead.\n",
      "  super(Adam, self).__init__(name, **kwargs)\n",
      "/Users/ayaskantsamal/opt/anaconda3/lib/python3.9/site-packages/keras/optimizers/optimizer_v2/adam.py:110: UserWarning: The `lr` argument is deprecated, use `learning_rate` instead.\n",
      "  super(Adam, self).__init__(name, **kwargs)\n",
      "/Users/ayaskantsamal/opt/anaconda3/lib/python3.9/site-packages/keras/optimizers/optimizer_v2/adam.py:110: UserWarning: The `lr` argument is deprecated, use `learning_rate` instead.\n",
      "  super(Adam, self).__init__(name, **kwargs)\n",
      "/Users/ayaskantsamal/opt/anaconda3/lib/python3.9/site-packages/keras/optimizers/optimizer_v2/adam.py:110: UserWarning: The `lr` argument is deprecated, use `learning_rate` instead.\n",
      "  super(Adam, self).__init__(name, **kwargs)\n",
      "WARNING:tensorflow:5 out of the last 13 calls to <function Model.make_test_function.<locals>.test_function at 0x7f9de94efd30> triggered tf.function retracing. Tracing is expensive and the excessive number of tracings could be due to (1) creating @tf.function repeatedly in a loop, (2) passing tensors with different shapes, (3) passing Python objects instead of tensors. For (1), please define your @tf.function outside of the loop. For (2), @tf.function has reduce_retracing=True option that can avoid unnecessary retracing. For (3), please refer to https://www.tensorflow.org/guide/function#controlling_retracing and https://www.tensorflow.org/api_docs/python/tf/function for  more details.\n",
      "/Users/ayaskantsamal/opt/anaconda3/lib/python3.9/site-packages/keras/optimizers/optimizer_v2/adam.py:110: UserWarning: The `lr` argument is deprecated, use `learning_rate` instead.\n",
      "  super(Adam, self).__init__(name, **kwargs)\n",
      "/Users/ayaskantsamal/opt/anaconda3/lib/python3.9/site-packages/keras/optimizers/optimizer_v2/adam.py:110: UserWarning: The `lr` argument is deprecated, use `learning_rate` instead.\n",
      "  super(Adam, self).__init__(name, **kwargs)\n",
      "WARNING:tensorflow:5 out of the last 13 calls to <function Model.make_test_function.<locals>.test_function at 0x7f9e11bbed30> triggered tf.function retracing. Tracing is expensive and the excessive number of tracings could be due to (1) creating @tf.function repeatedly in a loop, (2) passing tensors with different shapes, (3) passing Python objects instead of tensors. For (1), please define your @tf.function outside of the loop. For (2), @tf.function has reduce_retracing=True option that can avoid unnecessary retracing. For (3), please refer to https://www.tensorflow.org/guide/function#controlling_retracing and https://www.tensorflow.org/api_docs/python/tf/function for  more details.\n",
      "/Users/ayaskantsamal/opt/anaconda3/lib/python3.9/site-packages/keras/optimizers/optimizer_v2/adam.py:110: UserWarning: The `lr` argument is deprecated, use `learning_rate` instead.\n",
      "  super(Adam, self).__init__(name, **kwargs)\n",
      "WARNING:tensorflow:5 out of the last 13 calls to <function Model.make_test_function.<locals>.test_function at 0x7f9da9e6ac10> triggered tf.function retracing. Tracing is expensive and the excessive number of tracings could be due to (1) creating @tf.function repeatedly in a loop, (2) passing tensors with different shapes, (3) passing Python objects instead of tensors. For (1), please define your @tf.function outside of the loop. For (2), @tf.function has reduce_retracing=True option that can avoid unnecessary retracing. For (3), please refer to https://www.tensorflow.org/guide/function#controlling_retracing and https://www.tensorflow.org/api_docs/python/tf/function for  more details.\n",
      "/Users/ayaskantsamal/opt/anaconda3/lib/python3.9/site-packages/keras/optimizers/optimizer_v2/adam.py:110: UserWarning: The `lr` argument is deprecated, use `learning_rate` instead.\n",
      "  super(Adam, self).__init__(name, **kwargs)\n",
      "/Users/ayaskantsamal/opt/anaconda3/lib/python3.9/site-packages/keras/optimizers/optimizer_v2/adam.py:110: UserWarning: The `lr` argument is deprecated, use `learning_rate` instead.\n",
      "  super(Adam, self).__init__(name, **kwargs)\n",
      "/Users/ayaskantsamal/opt/anaconda3/lib/python3.9/site-packages/keras/optimizers/optimizer_v2/adam.py:110: UserWarning: The `lr` argument is deprecated, use `learning_rate` instead.\n",
      "  super(Adam, self).__init__(name, **kwargs)\n",
      "/Users/ayaskantsamal/opt/anaconda3/lib/python3.9/site-packages/keras/optimizers/optimizer_v2/adam.py:110: UserWarning: The `lr` argument is deprecated, use `learning_rate` instead.\n",
      "  super(Adam, self).__init__(name, **kwargs)\n",
      "/Users/ayaskantsamal/opt/anaconda3/lib/python3.9/site-packages/keras/optimizers/optimizer_v2/adam.py:110: UserWarning: The `lr` argument is deprecated, use `learning_rate` instead.\n",
      "  super(Adam, self).__init__(name, **kwargs)\n",
      "/Users/ayaskantsamal/opt/anaconda3/lib/python3.9/site-packages/keras/optimizers/optimizer_v2/adam.py:110: UserWarning: The `lr` argument is deprecated, use `learning_rate` instead.\n",
      "  super(Adam, self).__init__(name, **kwargs)\n",
      "/Users/ayaskantsamal/opt/anaconda3/lib/python3.9/site-packages/keras/optimizers/optimizer_v2/adam.py:110: UserWarning: The `lr` argument is deprecated, use `learning_rate` instead.\n",
      "  super(Adam, self).__init__(name, **kwargs)\n",
      "/Users/ayaskantsamal/opt/anaconda3/lib/python3.9/site-packages/keras/optimizers/optimizer_v2/adam.py:110: UserWarning: The `lr` argument is deprecated, use `learning_rate` instead.\n",
      "  super(Adam, self).__init__(name, **kwargs)\n",
      "/Users/ayaskantsamal/opt/anaconda3/lib/python3.9/site-packages/keras/optimizers/optimizer_v2/adam.py:110: UserWarning: The `lr` argument is deprecated, use `learning_rate` instead.\n",
      "  super(Adam, self).__init__(name, **kwargs)\n",
      "/Users/ayaskantsamal/opt/anaconda3/lib/python3.9/site-packages/keras/optimizers/optimizer_v2/adam.py:110: UserWarning: The `lr` argument is deprecated, use `learning_rate` instead.\n",
      "  super(Adam, self).__init__(name, **kwargs)\n",
      "/Users/ayaskantsamal/opt/anaconda3/lib/python3.9/site-packages/keras/optimizers/optimizer_v2/adam.py:110: UserWarning: The `lr` argument is deprecated, use `learning_rate` instead.\n",
      "  super(Adam, self).__init__(name, **kwargs)\n",
      "/Users/ayaskantsamal/opt/anaconda3/lib/python3.9/site-packages/keras/optimizers/optimizer_v2/adam.py:110: UserWarning: The `lr` argument is deprecated, use `learning_rate` instead.\n",
      "  super(Adam, self).__init__(name, **kwargs)\n",
      "/Users/ayaskantsamal/opt/anaconda3/lib/python3.9/site-packages/keras/optimizers/optimizer_v2/adam.py:110: UserWarning: The `lr` argument is deprecated, use `learning_rate` instead.\n",
      "  super(Adam, self).__init__(name, **kwargs)\n",
      "/Users/ayaskantsamal/opt/anaconda3/lib/python3.9/site-packages/keras/optimizers/optimizer_v2/adam.py:110: UserWarning: The `lr` argument is deprecated, use `learning_rate` instead.\n",
      "  super(Adam, self).__init__(name, **kwargs)\n"
     ]
    },
    {
     "name": "stderr",
     "output_type": "stream",
     "text": [
      "/Users/ayaskantsamal/opt/anaconda3/lib/python3.9/site-packages/keras/optimizers/optimizer_v2/adam.py:110: UserWarning: The `lr` argument is deprecated, use `learning_rate` instead.\n",
      "  super(Adam, self).__init__(name, **kwargs)\n",
      "/Users/ayaskantsamal/opt/anaconda3/lib/python3.9/site-packages/keras/optimizers/optimizer_v2/adam.py:110: UserWarning: The `lr` argument is deprecated, use `learning_rate` instead.\n",
      "  super(Adam, self).__init__(name, **kwargs)\n",
      "/Users/ayaskantsamal/opt/anaconda3/lib/python3.9/site-packages/keras/optimizers/optimizer_v2/adam.py:110: UserWarning: The `lr` argument is deprecated, use `learning_rate` instead.\n",
      "  super(Adam, self).__init__(name, **kwargs)\n",
      "/Users/ayaskantsamal/opt/anaconda3/lib/python3.9/site-packages/keras/optimizers/optimizer_v2/adam.py:110: UserWarning: The `lr` argument is deprecated, use `learning_rate` instead.\n",
      "  super(Adam, self).__init__(name, **kwargs)\n",
      "/Users/ayaskantsamal/opt/anaconda3/lib/python3.9/site-packages/keras/optimizers/optimizer_v2/adam.py:110: UserWarning: The `lr` argument is deprecated, use `learning_rate` instead.\n",
      "  super(Adam, self).__init__(name, **kwargs)\n",
      "/Users/ayaskantsamal/opt/anaconda3/lib/python3.9/site-packages/keras/optimizers/optimizer_v2/adam.py:110: UserWarning: The `lr` argument is deprecated, use `learning_rate` instead.\n",
      "  super(Adam, self).__init__(name, **kwargs)\n",
      "/Users/ayaskantsamal/opt/anaconda3/lib/python3.9/site-packages/keras/optimizers/optimizer_v2/adam.py:110: UserWarning: The `lr` argument is deprecated, use `learning_rate` instead.\n",
      "  super(Adam, self).__init__(name, **kwargs)\n"
     ]
    }
   ],
   "source": [
    "# Define the search parameters\n",
    "\n",
    "batch_size = [10,50,100,500,1000,2000]\n",
    "epochs = [25,50,80,100,150]\n",
    "learning_rate = [0.001,0.01,0.1]\n",
    "\n",
    "activation_function = ['elu','relu','linear']\n",
    "init = ['uniform','normal','zero']\n",
    "neuron1 = [5,10,20,30]\n",
    "neuron2 = [5,10,20,30]\n",
    "\n",
    "\n",
    "# Create a dictionary of the parameters\n",
    "\n",
    "param_grids = dict(batch_size = batch_size,epochs = epochs,learning_rate = learning_rate,\n",
    "                   activation_function = activation_function,init = init,neuron1 = neuron1,neuron2 = neuron2)\n",
    "\n",
    "\n",
    "# Build and fit the RandomizedSearchCV\n",
    "\n",
    "random_search = RandomizedSearchCV(estimator = keras_reg,param_distributions = param_grids,cv = 5,n_jobs=-1,verbose = 10,\n",
    "                                   random_state=40)\n",
    "random_result = random_search.fit(X_train,y_train)\n",
    "\n"
   ]
  },
  {
   "cell_type": "code",
   "execution_count": 46,
   "metadata": {},
   "outputs": [
    {
     "name": "stdout",
     "output_type": "stream",
     "text": [
      "Best score: -0.6027740240097046\n",
      "Best parameters: {'neuron2': 20, 'neuron1': 10, 'learning_rate': 0.01, 'init': 'normal', 'epochs': 25, 'batch_size': 1000, 'activation_function': 'linear'}\n"
     ]
    }
   ],
   "source": [
    "# Summarize the results\n",
    "print('Best score:',random_result.best_score_)\n",
    "print('Best parameters:',random_result.best_params_)\n"
   ]
  },
  {
   "cell_type": "code",
   "execution_count": 47,
   "metadata": {},
   "outputs": [
    {
     "name": "stdout",
     "output_type": "stream",
     "text": [
      "Epoch 1/25\n"
     ]
    },
    {
     "name": "stderr",
     "output_type": "stream",
     "text": [
      "/Users/ayaskantsamal/opt/anaconda3/lib/python3.9/site-packages/keras/optimizers/optimizer_v2/adam.py:110: UserWarning: The `lr` argument is deprecated, use `learning_rate` instead.\n",
      "  super(Adam, self).__init__(name, **kwargs)\n"
     ]
    },
    {
     "name": "stdout",
     "output_type": "stream",
     "text": [
      "11/11 [==============================] - 0s 10ms/step - loss: 18091.7129 - mse: 18091.7129 - mae: 133.6813 - val_loss: 17744.7012 - val_mse: 17744.7012 - val_mae: 132.6708\n",
      "Epoch 2/25\n",
      "11/11 [==============================] - 0s 3ms/step - loss: 17188.4961 - mse: 17188.4961 - mae: 130.8448 - val_loss: 16273.9854 - val_mse: 16273.9854 - val_mae: 127.4374\n",
      "Epoch 3/25\n",
      "11/11 [==============================] - 0s 3ms/step - loss: 15233.0381 - mse: 15233.0381 - mae: 122.8452 - val_loss: 13301.1309 - val_mse: 13301.1309 - val_mae: 114.6994\n",
      "Epoch 4/25\n",
      "11/11 [==============================] - 0s 3ms/step - loss: 11110.9189 - mse: 11110.9189 - mae: 104.8313 - val_loss: 7843.4502 - val_mse: 7843.4502 - val_mae: 88.2028\n",
      "Epoch 5/25\n",
      "11/11 [==============================] - 0s 3ms/step - loss: 5072.3945 - mse: 5072.3945 - mae: 69.8596 - val_loss: 1794.4650 - val_mse: 1794.4650 - val_mae: 42.1482\n",
      "Epoch 6/25\n",
      "11/11 [==============================] - 0s 3ms/step - loss: 587.4899 - mse: 587.4899 - mae: 19.8397 - val_loss: 89.9953 - val_mse: 89.9953 - val_mae: 9.1962\n",
      "Epoch 7/25\n",
      "11/11 [==============================] - 0s 3ms/step - loss: 296.9630 - mse: 296.9630 - mae: 16.6411 - val_loss: 242.6530 - val_mse: 242.6530 - val_mae: 15.5330\n",
      "Epoch 8/25\n",
      "11/11 [==============================] - 0s 3ms/step - loss: 82.7072 - mse: 82.7072 - mae: 7.4748 - val_loss: 7.6204 - val_mse: 7.6204 - val_mae: 2.3924\n",
      "Epoch 9/25\n",
      "11/11 [==============================] - 0s 3ms/step - loss: 27.6276 - mse: 27.6276 - mae: 5.0013 - val_loss: 28.4720 - val_mse: 28.4720 - val_mae: 5.2089\n",
      "Epoch 10/25\n",
      "11/11 [==============================] - 0s 3ms/step - loss: 11.3479 - mse: 11.3479 - mae: 2.8747 - val_loss: 0.8672 - val_mse: 0.8672 - val_mae: 0.7126\n",
      "Epoch 11/25\n",
      "11/11 [==============================] - 0s 3ms/step - loss: 3.1481 - mse: 3.1481 - mae: 1.5402 - val_loss: 3.4008 - val_mse: 3.4008 - val_mae: 1.6793\n",
      "Epoch 12/25\n",
      "11/11 [==============================] - 0s 3ms/step - loss: 1.5707 - mse: 1.5707 - mae: 0.9963 - val_loss: 0.6239 - val_mse: 0.6239 - val_mae: 0.6075\n",
      "Epoch 13/25\n",
      "11/11 [==============================] - 0s 3ms/step - loss: 0.8701 - mse: 0.8701 - mae: 0.7539 - val_loss: 0.7855 - val_mse: 0.7855 - val_mae: 0.7031\n",
      "Epoch 14/25\n",
      "11/11 [==============================] - 0s 3ms/step - loss: 0.6076 - mse: 0.6076 - mae: 0.5838 - val_loss: 0.5672 - val_mse: 0.5672 - val_mae: 0.5413\n",
      "Epoch 15/25\n",
      "11/11 [==============================] - 0s 3ms/step - loss: 0.5806 - mse: 0.5806 - mae: 0.5510 - val_loss: 0.5632 - val_mse: 0.5632 - val_mae: 0.5479\n",
      "Epoch 16/25\n",
      "11/11 [==============================] - 0s 3ms/step - loss: 0.5422 - mse: 0.5422 - mae: 0.5349 - val_loss: 0.5417 - val_mse: 0.5417 - val_mae: 0.5365\n",
      "Epoch 17/25\n",
      "11/11 [==============================] - 0s 4ms/step - loss: 0.5406 - mse: 0.5406 - mae: 0.5377 - val_loss: 0.5341 - val_mse: 0.5341 - val_mae: 0.5219\n",
      "Epoch 18/25\n",
      "11/11 [==============================] - 0s 4ms/step - loss: 0.5371 - mse: 0.5371 - mae: 0.5286 - val_loss: 0.5369 - val_mse: 0.5369 - val_mae: 0.5235\n",
      "Epoch 19/25\n",
      "11/11 [==============================] - 0s 3ms/step - loss: 0.5358 - mse: 0.5358 - mae: 0.5275 - val_loss: 0.5356 - val_mse: 0.5356 - val_mae: 0.5310\n",
      "Epoch 20/25\n",
      "11/11 [==============================] - 0s 3ms/step - loss: 0.5388 - mse: 0.5388 - mae: 0.5323 - val_loss: 0.5385 - val_mse: 0.5385 - val_mae: 0.5324\n",
      "Epoch 21/25\n",
      "11/11 [==============================] - 0s 3ms/step - loss: 0.5394 - mse: 0.5394 - mae: 0.5321 - val_loss: 0.5321 - val_mse: 0.5321 - val_mae: 0.5270\n",
      "Epoch 22/25\n",
      "11/11 [==============================] - 0s 3ms/step - loss: 0.5349 - mse: 0.5349 - mae: 0.5284 - val_loss: 0.5379 - val_mse: 0.5379 - val_mae: 0.5321\n",
      "Epoch 23/25\n",
      "11/11 [==============================] - 0s 3ms/step - loss: 0.5332 - mse: 0.5332 - mae: 0.5276 - val_loss: 0.5341 - val_mse: 0.5341 - val_mae: 0.5144\n",
      "Epoch 24/25\n",
      "11/11 [==============================] - 0s 3ms/step - loss: 0.5327 - mse: 0.5327 - mae: 0.5257 - val_loss: 0.5313 - val_mse: 0.5313 - val_mae: 0.5271\n",
      "Epoch 25/25\n",
      "11/11 [==============================] - 0s 3ms/step - loss: 0.5306 - mse: 0.5306 - mae: 0.5262 - val_loss: 0.5383 - val_mse: 0.5383 - val_mae: 0.5261\n"
     ]
    }
   ],
   "source": [
    "## storing the best parameters in a variable\n",
    "## fitting the model with best parameters\n",
    "\n",
    "d1= random_result.best_params_\n",
    "\n",
    "keras_tuned=keras_reg_model(learning_rate=d1['learning_rate'],activation_function=d1['activation_function'],init=d1['init'],\n",
    "                                                                                       neuron1=d1['neuron1'],neuron2=d1['neuron2'])\n",
    "\n",
    "# Training and evaluating the model\n",
    "history2=keras_tuned.fit(X_train, y_train, validation_data=(X_test,y_test),\n",
    "                         epochs =d1['epochs'], batch_size=d1['batch_size'])\n"
   ]
  },
  {
   "cell_type": "code",
   "execution_count": 48,
   "metadata": {},
   "outputs": [
    {
     "data": {
      "image/png": "[encoded data removed]",
      "text/plain": [
       "<Figure size 432x288 with 1 Axes>"
      ]
     },
     "metadata": {
      "needs_background": "light"
     },
     "output_type": "display_data"
    }
   ],
   "source": [
    "# PLotting Loss(MSE) After Tuning\n",
    "\n",
    "plt.title('Model Loss(MSE)After Tuning')\n",
    "plt.plot(history2.history['loss'], label='train')\n",
    "plt.plot(history2.history['val_loss'], label='test')\n",
    "plt.ylabel('MSE')\n",
    "plt.xlabel('epoch')\n",
    "\n",
    "plt.legend()\n",
    "plt.show()"
   ]
  },
  {
   "cell_type": "code",
   "execution_count": 38,
   "metadata": {},
   "outputs": [
    {
     "name": "stdout",
     "output_type": "stream",
     "text": [
      "Training set rmse : 0.743, Testing set rmse: 0.747\n"
     ]
    }
   ],
   "source": [
    "# evaluate the model\n",
    "\n",
    "y_train_pred_tuned= keras_tuned.predict(X_train)\n",
    "y_test_pred_tuned= keras_tuned.predict(X_test)\n",
    "\n",
    "from sklearn.metrics import mean_squared_error\n",
    "\n",
    "train_rmse_tuned = mean_squared_error(Y_train,y_train_pred_tuned,squared=False)\n",
    "test_rmse_tuned = mean_squared_error(Y_test, y_test_pred_tuned,squared=False)\n",
    "\n",
    "print('Training set rmse : %.3f, Testing set rmse: %.3f' % (train_rmse_tuned, test_rmse_tuned))"
   ]
  },
  {
   "cell_type": "markdown",
   "metadata": {},
   "source": [
    "## Comparing base model and tuned model"
   ]
  },
  {
   "cell_type": "code",
   "execution_count": 39,
   "metadata": {},
   "outputs": [
    {
     "data": {
      "text/html": [
       "<div>\n",
       "<style scoped>\n",
       "    .dataframe tbody tr th:only-of-type {\n",
       "        vertical-align: middle;\n",
       "    }\n",
       "\n",
       "    .dataframe tbody tr th {\n",
       "        vertical-align: top;\n",
       "    }\n",
       "\n",
       "    .dataframe thead th {\n",
       "        text-align: right;\n",
       "    }\n",
       "</style>\n",
       "<table border=\"1\" class=\"dataframe\">\n",
       "  <thead>\n",
       "    <tr style=\"text-align: right;\">\n",
       "      <th></th>\n",
       "      <th>models</th>\n",
       "      <th>train rmse</th>\n",
       "      <th>test rmse</th>\n",
       "    </tr>\n",
       "  </thead>\n",
       "  <tbody>\n",
       "    <tr>\n",
       "      <th>0</th>\n",
       "      <td>base model</td>\n",
       "      <td>40.709783</td>\n",
       "      <td>40.623402</td>\n",
       "    </tr>\n",
       "    <tr>\n",
       "      <th>1</th>\n",
       "      <td>tuned model</td>\n",
       "      <td>0.742717</td>\n",
       "      <td>0.747451</td>\n",
       "    </tr>\n",
       "  </tbody>\n",
       "</table>\n",
       "</div>"
      ],
      "text/plain": [
       "        models  train rmse  test rmse\n",
       "0   base model   40.709783  40.623402\n",
       "1  tuned model    0.742717   0.747451"
      ]
     },
     "execution_count": 39,
     "metadata": {},
     "output_type": "execute_result"
    }
   ],
   "source": [
    "result=pd.DataFrame({'models':['base model','tuned model'],'train rmse':[train_rmse,train_rmse_tuned],\n",
    "                     'test rmse':[test_rmse,test_rmse_tuned]})\n",
    "result"
   ]
  },
  {
   "cell_type": "markdown",
   "metadata": {},
   "source": [
    "For both base model and tuned model, the difference between rmse for train and test set is very low indicating almost no overfitting.\n",
    "\n",
    "For tuned model,the rmse has decreased compared to base model suggesting that hypertuning parameters has increased the efficiency of this regression model."
   ]
  },
  {
   "cell_type": "code",
   "execution_count": null,
   "metadata": {},
   "outputs": [],
   "source": []
  }
 ],
 "metadata": {
  "kernelspec": {
   "display_name": "Python 3 (ipykernel)",
   "language": "python",
   "name": "python3"
  },
  "language_info": {
   "codemirror_mode": {
    "name": "ipython",
    "version": 3
   },
   "file_extension": ".py",
   "mimetype": "text/x-python",
   "name": "python",
   "nbconvert_exporter": "python",
   "pygments_lexer": "ipython3",
   "version": "3.9.12"
  }
 },
 "nbformat": 4,
 "nbformat_minor": 4
}
